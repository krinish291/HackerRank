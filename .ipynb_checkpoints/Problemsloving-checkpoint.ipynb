{
 "cells": [
  {
   "cell_type": "code",
   "execution_count": 1,
   "metadata": {},
   "outputs": [
    {
     "name": "stdout",
     "output_type": "stream",
     "text": [
      "1 2\n"
     ]
    }
   ],
   "source": [
    "def compareTriplets(a, b):\n",
    "    a1=0\n",
    "    b1=0\n",
    "    for i in range(0,3):\n",
    "        if a[i]>b[i]:\n",
    "            a1=a1+1\n",
    "        if a[i]==b[i]:\n",
    "            pass\n",
    "        if a[i]<b[i]:\n",
    "            b1=b1+1\n",
    "    res=[0,0]\n",
    "    res[0]=a1\n",
    "    res[1]=b1\n",
    "    return res\n",
    "a=[3,5,6]\n",
    "b=[6,6,3]\n",
    "res=compareTriplets(a,b)\n",
    "print(res[0],res[1])"
   ]
  },
  {
   "cell_type": "code",
   "execution_count": 2,
   "metadata": {},
   "outputs": [
    {
     "name": "stdout",
     "output_type": "stream",
     "text": [
      "2 2 1\n",
      "0.4\n",
      "0.4\n",
      "0.2\n"
     ]
    }
   ],
   "source": [
    "def plusMinus(arr):\n",
    "    p=0\n",
    "    n=0\n",
    "    z=0\n",
    "    for i in arr:\n",
    "        if i < 0:\n",
    "            n = n + 1\n",
    "        elif i == 0:\n",
    "            z=z+1\n",
    "        elif i > 0:\n",
    "            p=p+1\n",
    "    print(p,n,z)\n",
    "    print(float(p/len(arr)))   \n",
    "    print(float(n/len(arr)))    \n",
    "    print(float(z/len(arr)))    \n",
    "\n",
    "plusMinus([-1,1,0,-2,2])    \n",
    "    "
   ]
  },
  {
   "cell_type": "code",
   "execution_count": 3,
   "metadata": {},
   "outputs": [
    {
     "name": "stdout",
     "output_type": "stream",
     "text": [
      "     #\n",
      "    ##\n",
      "   ###\n",
      "  ####\n",
      " #####\n",
      "######\n"
     ]
    }
   ],
   "source": [
    "n=6\n",
    "def piramid(n):\n",
    "    for i in range(0,n):\n",
    "        for j in reversed(range(0,6)):\n",
    "            if(j<=i):\n",
    "                print('#',end='')\n",
    "            else:\n",
    "                print(' ',end='')\n",
    "        print('')\n",
    "piramid(n)     "
   ]
  },
  {
   "cell_type": "code",
   "execution_count": 4,
   "metadata": {},
   "outputs": [
    {
     "name": "stdout",
     "output_type": "stream",
     "text": [
      "10\n",
      "14\n"
     ]
    }
   ],
   "source": [
    "def miniMaxSum(arr):\n",
    "    sum=[0,0,0,0,0]\n",
    "    for i in range(len(arr)):\n",
    "        ans=0\n",
    "        for j in range(len(arr)):\n",
    "            if(i==j):\n",
    "                pass\n",
    "            else:\n",
    "                ans=ans+arr[j]\n",
    "        sum[i]=ans\n",
    "    print(min(sum))\n",
    "    print(max(sum))\n",
    "        \n",
    "miniMaxSum([1,2,3,4,5])        "
   ]
  },
  {
   "cell_type": "code",
   "execution_count": 5,
   "metadata": {},
   "outputs": [
    {
     "name": "stdout",
     "output_type": "stream",
     "text": [
      "4\n",
      "2\n"
     ]
    }
   ],
   "source": [
    "def finf(arr):\n",
    "    l=[]\n",
    "    a=max(arr)\n",
    "    print(a)\n",
    "    for i in arr:\n",
    "        l.append(i)\n",
    "    print(l.count(a))\n",
    "finf([4,4,1,3])"
   ]
  },
  {
   "cell_type": "code",
   "execution_count": 6,
   "metadata": {},
   "outputs": [
    {
     "name": "stdout",
     "output_type": "stream",
     "text": [
      "[75, 67, 40, 33]\n"
     ]
    }
   ],
   "source": [
    "def gradingStudents(grades):\n",
    "    arr=[]\n",
    "    # Write your code here\n",
    "    for i in grades:\n",
    "        if  i < 38:\n",
    "            pass\n",
    "        else:\n",
    "            if i%5 >= 3:\n",
    "                i = i - i%5 + 5\n",
    "            else:\n",
    "                pass\n",
    "        arr.append(i)\n",
    "    return arr\n",
    "result=gradingStudents([73,67,38,33])\n",
    "print(result)"
   ]
  },
  {
   "cell_type": "code",
   "execution_count": 7,
   "metadata": {},
   "outputs": [
    {
     "name": "stdout",
     "output_type": "stream",
     "text": [
      "1\n",
      "1\n"
     ]
    }
   ],
   "source": [
    "def countApplesAndOranges(s, t, a, b, apples, oranges):\n",
    "    ta=[]\n",
    "    to=[]\n",
    "    for i in apples:\n",
    "        if a+i >= s:\n",
    "            ta.append(i)\n",
    "    for i in oranges:\n",
    "        if b+i <= t:\n",
    "            to.append(i)\n",
    "            \n",
    "    print(len(ta))\n",
    "    print(len(to))\n",
    "\n",
    "countApplesAndOranges(7,11,5,15,[-2, 2, 1],[5 ,-6])"
   ]
  },
  {
   "cell_type": "code",
   "execution_count": 8,
   "metadata": {},
   "outputs": [
    {
     "name": "stdout",
     "output_type": "stream",
     "text": [
      "2 96\n",
      "[2, 4, 6, 8, 10, 12, 14, 16, 18, 20, 22, 24, 26, 28, 30, 32, 34, 36, 38, 40, 42, 44, 46, 48, 50, 52, 54, 56, 58, 60, 62, 64, 66, 68, 70, 72, 74, 76, 78, 80, 82, 84, 86, 88, 90, 92, 94, 4, 8, 12, 16, 20, 24, 28, 32, 36, 40, 44, 48, 52, 56, 60, 64, 68, 72, 76, 80, 84, 88, 92]\n"
     ]
    }
   ],
   "source": [
    "def getTotalX(a, b):\n",
    "    # Write your code here\n",
    "    l=[]\n",
    "    v2=max(b)\n",
    "    v1=min(a)\n",
    "    print(v1,v2)\n",
    "    for j in range(0,len(a)):\n",
    "        for i in range(v1,v2):\n",
    "            if i%a[j] == 0:\n",
    "                l.append(i)\n",
    "    print(l)\n",
    "\n",
    "getTotalX([2,4],[16,32,96])"
   ]
  },
  {
   "cell_type": "code",
   "execution_count": 9,
   "metadata": {},
   "outputs": [
    {
     "name": "stdout",
     "output_type": "stream",
     "text": [
      "3\n",
      "3\n",
      "4\n",
      "5\n",
      "2\n"
     ]
    }
   ],
   "source": [
    "def birthday(s, d, m):\n",
    "    count=0\n",
    "    for i in range(0,len(s)-m+1):\n",
    "        sum=0\n",
    "        for j in range(0,m):\n",
    "            sum =sum + s[i+j]\n",
    "        print(sum)\n",
    "        if sum==d:\n",
    "            count+=1\n",
    "    print(count)\n",
    "birthday([1, 2, 1, 3, 2],3,2)"
   ]
  },
  {
   "cell_type": "code",
   "execution_count": 10,
   "metadata": {},
   "outputs": [
    {
     "name": "stdout",
     "output_type": "stream",
     "text": [
      "3.0\n"
     ]
    }
   ],
   "source": [
    "def divisibleSumPairs(n, k, ar):\n",
    "    count=0\n",
    "    for i in range(0,n):\n",
    "        for j in range(0,n):\n",
    "            sum=0\n",
    "            if i!=j:\n",
    "                sum=ar[j]+ar[i]\n",
    "               \n",
    "                if sum%k == 0:\n",
    "                    count+=1\n",
    "    print(count/2)\n",
    "divisibleSumPairs(6,5,[1 ,2,3,4,5,6])"
   ]
  },
  {
   "cell_type": "code",
   "execution_count": 11,
   "metadata": {},
   "outputs": [
    {
     "name": "stdout",
     "output_type": "stream",
     "text": [
      "3\n",
      "3\n"
     ]
    }
   ],
   "source": [
    "def migratoryBirds(arr):\n",
    "    a=[]\n",
    "    for i in range(0,5):\n",
    "        k=arr.count(i+1)\n",
    "        a.append(k)\n",
    "    print(max(a))\n",
    "    for i in range(0,5):\n",
    "        if a[i]==3:\n",
    "            break\n",
    "    print(i+1)\n",
    "migratoryBirds([1 ,2, 3, 4, 5,4, 3, 2 ,1 ,3, 4])"
   ]
  },
  {
   "cell_type": "code",
   "execution_count": 12,
   "metadata": {},
   "outputs": [
    {
     "name": "stdout",
     "output_type": "stream",
     "text": [
      "15511210043330985984000000\n"
     ]
    }
   ],
   "source": [
    "def extraLongFactorials(n):\n",
    "    fact = 1\n",
    "    for i in range(1,n+1): \n",
    "        fact = fact * i \n",
    "    print (fact) \n",
    "extraLongFactorials(25)        "
   ]
  },
  {
   "cell_type": "code",
   "execution_count": 13,
   "metadata": {},
   "outputs": [
    {
     "name": "stdout",
     "output_type": "stream",
     "text": [
      "Factorial of 5 is 120\n"
     ]
    }
   ],
   "source": [
    "# Python 3 program to find \n",
    "# factorial of given number \n",
    "def factorial(n): \n",
    "\t\n",
    "\t# single line to find factorial \n",
    "\treturn 1 if (n == 1 or n == 0) else n * factorial(n - 1); \n",
    "\n",
    "# Driver Code \n",
    "num = 5; \n",
    "print(\"Factorial of\", num, \"is\", \n",
    "factorial(num)) \n",
    "\n",
    "# This code is contributed by Smitha Dinesh Semwal \n"
   ]
  },
  {
   "cell_type": "code",
   "execution_count": 14,
   "metadata": {},
   "outputs": [
    {
     "name": "stdout",
     "output_type": "stream",
     "text": [
      "2 4\n"
     ]
    }
   ],
   "source": [
    "def breakingRecords(scores):\n",
    "    mins=scores[0]\n",
    "    maxs=scores[0]\n",
    "    cs=0\n",
    "    cl=0\n",
    "    for i in range (1,len(scores)):\n",
    "        if scores[i] < mins:\n",
    "            cs+=1\n",
    "            mins=scores[i]\n",
    "        if scores[i] > maxs:\n",
    "            cl+=1\n",
    "            maxs=scores[i]\n",
    "    print(cl,cs)\n",
    "breakingRecords([10 ,5 ,20 ,20 ,4, 5, 2 ,25, 1])"
   ]
  },
  {
   "cell_type": "code",
   "execution_count": 15,
   "metadata": {},
   "outputs": [
    {
     "name": "stdout",
     "output_type": "stream",
     "text": [
      "happy number\n"
     ]
    }
   ],
   "source": [
    "myset = set()\n",
    "def happynumber(n):\n",
    "    i=0\n",
    "    a=[]\n",
    "    sum=0  \n",
    "    while n>0:\n",
    "        i=n%10\n",
    "        a.append(i)\n",
    "        n=int(n/10)\n",
    "    a.reverse()\n",
    "    for i in a:\n",
    "        sum=sum+(i**2)\n",
    "    if sum == 1:\n",
    "        print(\"happy number\")\n",
    "    elif sum in myset:\n",
    "        print(\"not possible\") \n",
    "    else:   \n",
    "        myset.add(sum)\n",
    "        happynumber(sum)   \n",
    "happynumber(13)"
   ]
  },
  {
   "cell_type": "code",
   "execution_count": 16,
   "metadata": {},
   "outputs": [
    {
     "name": "stdout",
     "output_type": "stream",
     "text": [
      "3\n"
     ]
    }
   ],
   "source": [
    "def sockMerchant( ar):\n",
    "    a=[]\n",
    "    sum=0\n",
    "    k=set()\n",
    "    for i in ar:\n",
    "        if i in k:\n",
    "            pass\n",
    "        else:\n",
    "            k.add(i)\n",
    "            a.append(ar.count(i))\n",
    "    for i in a:\n",
    "        i=int(i/2)\n",
    "        sum=sum+i\n",
    "    print(sum)\n",
    "sockMerchant([10 ,20 ,20 ,10, 10, 30, 50, 10 ,20])"
   ]
  },
  {
   "cell_type": "code",
   "execution_count": 17,
   "metadata": {},
   "outputs": [
    {
     "name": "stdout",
     "output_type": "stream",
     "text": [
      "1\n"
     ]
    }
   ],
   "source": [
    "def countingValleys( s):\n",
    "    ans=0\n",
    "    c=[]\n",
    "    count=0\n",
    "    for i in s:\n",
    "        if i == 'D':\n",
    "            ans=ans-1\n",
    "            c.append(ans)\n",
    "        elif i=='U':\n",
    "            ans=ans+1\n",
    "            c.append(ans)\n",
    "    for i in range(0,len(c)):\n",
    "        if c[i] == 0 and c[i-1]<0:\n",
    "            count+=1\n",
    "    print(count)\n",
    "countingValleys('UDDDUDUU')"
   ]
  },
  {
   "cell_type": "code",
   "execution_count": 18,
   "metadata": {},
   "outputs": [
    {
     "name": "stdout",
     "output_type": "stream",
     "text": [
      "4\n"
     ]
    }
   ],
   "source": [
    "def jumpingOnClouds(c):\n",
    "    count=0\n",
    "    for i in range(1,len(c)-2):\n",
    "        if c[i] == 1:\n",
    "            pass\n",
    "        elif c[i]==0 and c[i+1]==0 and c[i+2]==0:\n",
    "            pass\n",
    "        elif c[i]==0 and c[i+1]==0 and c[i+2]==1:   \n",
    "            count+=1\n",
    "        elif c[i]==0 and c[i+1]==1 and c[i+2]==0:\n",
    "            count+=1\n",
    "        elif c[i]==0 and c[i+1]==1 and c[i+2]==1:\n",
    "            count+=1\n",
    "    print(count+1)    \n",
    "        \n",
    "        \n",
    "    \n",
    "jumpingOnClouds([0 ,0, 1, 0, 0 ,1, 0])"
   ]
  },
  {
   "cell_type": "code",
   "execution_count": 19,
   "metadata": {},
   "outputs": [
    {
     "name": "stdout",
     "output_type": "stream",
     "text": [
      "4\n"
     ]
    }
   ],
   "source": [
    "def jumpingOnClouds(a):\n",
    "    c = -1\n",
    "    i = 0\n",
    "    while i < n:\n",
    "        if i < n-2 and a[i+2] == 0: \n",
    "            i += 1\n",
    "        c += 1\n",
    "        i += 1\n",
    "    print(c)\n",
    "jumpingOnClouds([0 ,0, 1, 0, 0 ,1, 0])"
   ]
  },
  {
   "cell_type": "code",
   "execution_count": null,
   "metadata": {},
   "outputs": [],
   "source": [
    "# Enter your code here. Read input from STDIN. Print output to STDOUT\n",
    "n=int(input(\"array length\"))\n",
    "x=[]\n",
    "sum=0\n",
    "for i in range(0, n): \n",
    "    ele = int(input()) \n",
    "    x.append(ele)\n",
    "\n",
    "for i in x:\n",
    "    sum+=i\n",
    "\n",
    "print(sum/len(x))\n",
    "x.sort()\n",
    "if len(x)%2==0:\n",
    "    print(x[len(x)])\n",
    "else:\n",
    "    print((x[int(len(x)/2)]+x[int(len(x)/2)+1])/2)\n",
    "k=[]\n",
    "for i in x:\n",
    "    k.append(x.count(i))\n",
    "a=max(k)\n",
    "sm=[]\n",
    "for i in range(0,n):\n",
    "    if k[i] == a:\n",
    "        sm.append(x[i])\n",
    "print(min(sm))\n",
    "        \n"
   ]
  },
  {
   "cell_type": "code",
   "execution_count": 21,
   "metadata": {},
   "outputs": [
    {
     "data": {
      "text/plain": [
       "0"
      ]
     },
     "execution_count": 21,
     "metadata": {},
     "output_type": "execute_result"
    }
   ],
   "source": [
    "import math\n",
    "def pageCount(n, p):\n",
    "    if n/2 < p:\n",
    "        return math.floor(n/2)-math.floor(p/2)\n",
    "    else:\n",
    "        return math.floor(p/2)\n",
    "pageCount(5,4)"
   ]
  },
  {
   "cell_type": "code",
   "execution_count": 31,
   "metadata": {},
   "outputs": [
    {
     "name": "stdout",
     "output_type": "stream",
     "text": [
      "9\n"
     ]
    }
   ],
   "source": [
    "def getMoneySpent(keyboards, drives, b):\n",
    "    \n",
    "    k=[]\n",
    "    for i in keyboards:\n",
    "        sum=0\n",
    "        for j in drives:\n",
    "            sum=sum + i\n",
    "            if b-sum > j:\n",
    "                sum=sum+j\n",
    "                if sum <= b:\n",
    "                    k.append(sum)\n",
    "    if not k:\n",
    "        print(-1)      \n",
    "    else:\n",
    "        print(max(k))   \n",
    "getMoneySpent([3,1],[5,2,8],10)"
   ]
  },
  {
   "cell_type": "code",
   "execution_count": 33,
   "metadata": {},
   "outputs": [
    {
     "name": "stdout",
     "output_type": "stream",
     "text": [
      "-1\n"
     ]
    }
   ],
   "source": [
    "def getMoneySpent(keyboards, drives, b):\n",
    "    return max([sum([x,y]) for x in keyboards for y in drives if sum([x,y]) <= b]+[-1])\n",
    "a=getMoneySpent([4],[5],5)\n",
    "print(a)"
   ]
  },
  {
   "cell_type": "code",
   "execution_count": 39,
   "metadata": {},
   "outputs": [
    {
     "name": "stdout",
     "output_type": "stream",
     "text": [
      "mouse c \n"
     ]
    }
   ],
   "source": [
    "def catAndMouse(x, y, z):\n",
    "    a=z-x\n",
    "    b=z-y\n",
    "    if abs(a) > abs(b) :\n",
    "        print('cat B')\n",
    "    elif abs(a) > abs(b):\n",
    "        print('cat A')\n",
    "    elif abs(a) == abs(b):\n",
    "        print(\"mouse c \")\n",
    "catAndMouse(1, 3,2)"
   ]
  },
  {
   "cell_type": "code",
   "execution_count": 41,
   "metadata": {},
   "outputs": [
    {
     "name": "stdout",
     "output_type": "stream",
     "text": [
      "24\n",
      "Not Weird\n"
     ]
    }
   ],
   "source": [
    "import math\n",
    "import os\n",
    "import random\n",
    "import re\n",
    "import sys\n",
    "\n",
    "def myfunction(N):\n",
    "    if N%2 == 1:\n",
    "        print(\"Weird\")\n",
    "    elif 2<=N and 5>=N:\n",
    "        print(\"Not Weird\")\n",
    "    elif 6<=N and 20>=N:\n",
    "        print(\"Weird\")\n",
    "    elif N>=20 and N%2==0:\n",
    "        print(\"Not Weird\")\n",
    "if __name__ == '__main__':\n",
    "    N = int(input())\n",
    "    myfunction(N)"
   ]
  },
  {
   "cell_type": "code",
   "execution_count": 53,
   "metadata": {},
   "outputs": [
    {
     "name": "stdout",
     "output_type": "stream",
     "text": [
      " 5 5 9 4\n",
      " 3 5 9 9\n",
      " 3 5 5 9\n",
      " 3 4 5 9"
     ]
    }
   ],
   "source": [
    "def intertionsort(arr):\n",
    "    for i in range(1,len(arr)):\n",
    "        key=arr[i]\n",
    "        j=i-1\n",
    "        while j>=0 and key<arr[j]:\n",
    "            arr[j+1]=arr[j]\n",
    "            j-=1\n",
    "            for k in arr:\n",
    "                print(' '+ str(k),end='')\n",
    "            print('')\n",
    "        arr[j+1]=key\n",
    "    for k in arr:\n",
    "        print(' '+ str(k),end='')\n",
    "intertionsort([5,3,9,4])"
   ]
  },
  {
   "cell_type": "code",
   "execution_count": 55,
   "metadata": {},
   "outputs": [
    {
     "name": "stdout",
     "output_type": "stream",
     "text": [
      "5 x 1 = 5\n",
      "5 x 2 = 10\n",
      "5 x 3 = 15\n",
      "5 x 4 = 20\n",
      "5 x 5 = 25\n",
      "5 x 6 = 30\n",
      "5 x 7 = 35\n",
      "5 x 8 = 40\n",
      "5 x 9 = 45\n",
      "5 x 10 = 50\n"
     ]
    }
   ],
   "source": [
    "def myfunction(n):\n",
    "    for i in range(1,11):\n",
    "        print(str(n) +' x '+str(i) +' = ' + str(n*i) )\n",
    "myfunction(5)"
   ]
  },
  {
   "cell_type": "code",
   "execution_count": 8,
   "metadata": {},
   "outputs": [
    {
     "name": "stdout",
     "output_type": "stream",
     "text": [
      "5\n"
     ]
    }
   ],
   "source": [
    "def camelcase(s):\n",
    "    count=0\n",
    "    for i in s:\n",
    "        if ord('A')<= ord(i) and ord('Z')>=ord(i):\n",
    "            count+=1\n",
    "    print(count+1)\n",
    "camelcase(\"saveChangesInTheEditor\")"
   ]
  },
  {
   "cell_type": "code",
   "execution_count": 31,
   "metadata": {},
   "outputs": [
    {
     "name": "stdout",
     "output_type": "stream",
     "text": [
      "1\n"
     ]
    }
   ],
   "source": [
    "def minimumNumber(password):\n",
    "    c=[0,0,0,0]\n",
    "    s=0\n",
    "    n=\"0123456789\"\n",
    "    salfa=\"abcdefghijklmnopqrstuvwxyz\"\n",
    "    calfa=\"ABCDEFGHIJKLMNOPQRSTUVWXYZ\"\n",
    "    spi=\"!@#$%^&*()-+\"\n",
    "    for i in password:\n",
    "        if i in n:\n",
    "            c[0]=1\n",
    "        if i in salfa:\n",
    "            c[1]=1\n",
    "        if i in calfa:\n",
    "            c[2]=1\n",
    "        if i in spi:\n",
    "            c[3]=1 \n",
    "    print(max(6-len(password),c.count(0)))\n",
    "minimumNumber(\"#HackerRank\")"
   ]
  },
  {
   "cell_type": "code",
   "execution_count": 38,
   "metadata": {},
   "outputs": [
    {
     "name": "stdout",
     "output_type": "stream",
     "text": [
      "7\n"
     ]
    }
   ],
   "source": [
    "# Python3 implementation of the approach \n",
    "\n",
    "# Function to return the maximum profit \n",
    "# that can be made after buying and \n",
    "# selling the given stocks \n",
    "def maxProfit(price, start, end): \n",
    "\t# If the stocks can't be bought \n",
    "\tif (end <= start): \n",
    "\t\treturn 0; \n",
    "\t# Initialise the profit \n",
    "\tprofit = 0; \n",
    "\t# The day at which the stock \n",
    "\t# must be bought \n",
    "\tfor i in range(start, end, 1): \n",
    "\t\t# The day at which the \n",
    "\t\t# stock must be sold \n",
    "\t\tfor j in range(i+1, end+1): \n",
    "\t\t\t# If byuing the stock at ith day and \n",
    "\t\t\t# selling it at jth day is profitable \n",
    "\t\t\tif (price[j] > price[i]): \n",
    "\t\t\t\t# Update the current profit \n",
    "\t\t\t\tcurr_profit = price[j] - price[i] +maxProfit(price, start, i - 1)+maxProfit(price, j + 1, end)\n",
    "\t\t\t\t# Update the maximum profit so far \n",
    "\t\t\t\tprofit = max(profit, curr_profit); \n",
    "\treturn profit; \n",
    "\n",
    "# Driver code \n",
    "if __name__ == '__main__': \n",
    "\tprice = [7,1,5,3,6,4]; \n",
    "\tn = len(price); \n",
    "\n",
    "\tprint(maxProfit(price, 0, n - 1)); \n",
    "\n",
    "# This code is contributed by Rajput-Ji \n"
   ]
  },
  {
   "cell_type": "code",
   "execution_count": 51,
   "metadata": {},
   "outputs": [
    {
     "ename": "NameError",
     "evalue": "name 'cases' is not defined",
     "output_type": "error",
     "traceback": [
      "\u001b[1;31m---------------------------------------------------------------------------\u001b[0m",
      "\u001b[1;31mNameError\u001b[0m                                 Traceback (most recent call last)",
      "\u001b[1;32m<ipython-input-51-25cd063c0291>\u001b[0m in \u001b[0;36m<module>\u001b[1;34m\u001b[0m\n\u001b[0;32m     10\u001b[0m     \u001b[0mprint\u001b[0m\u001b[1;33m(\u001b[0m\u001b[0mtotal\u001b[0m\u001b[1;33m)\u001b[0m\u001b[1;33m\u001b[0m\u001b[1;33m\u001b[0m\u001b[0m\n\u001b[0;32m     11\u001b[0m \u001b[1;33m\u001b[0m\u001b[0m\n\u001b[1;32m---> 12\u001b[1;33m \u001b[0malternate\u001b[0m\u001b[1;33m(\u001b[0m\u001b[1;34m\"beabeefeab\"\u001b[0m\u001b[1;33m)\u001b[0m\u001b[1;33m\u001b[0m\u001b[1;33m\u001b[0m\u001b[0m\n\u001b[0m\u001b[0;32m     13\u001b[0m \u001b[1;33m\u001b[0m\u001b[0m\n\u001b[0;32m     14\u001b[0m \u001b[1;33m\u001b[0m\u001b[0m\n",
      "\u001b[1;32m<ipython-input-51-25cd063c0291>\u001b[0m in \u001b[0;36malternate\u001b[1;34m(s)\u001b[0m\n\u001b[0;32m      1\u001b[0m \u001b[1;32mdef\u001b[0m \u001b[0malternate\u001b[0m\u001b[1;33m(\u001b[0m\u001b[0ms\u001b[0m\u001b[1;33m)\u001b[0m\u001b[1;33m:\u001b[0m\u001b[1;33m\u001b[0m\u001b[1;33m\u001b[0m\u001b[0m\n\u001b[1;32m----> 2\u001b[1;33m     \u001b[1;32mfor\u001b[0m \u001b[0mcaseNo\u001b[0m \u001b[1;32min\u001b[0m \u001b[0mrange\u001b[0m\u001b[1;33m(\u001b[0m\u001b[0mcases\u001b[0m\u001b[1;33m)\u001b[0m\u001b[1;33m:\u001b[0m\u001b[1;33m\u001b[0m\u001b[1;33m\u001b[0m\u001b[0m\n\u001b[0m\u001b[0;32m      3\u001b[0m         \u001b[0ms\u001b[0m \u001b[1;33m=\u001b[0m \u001b[0minput\u001b[0m\u001b[1;33m(\u001b[0m\u001b[1;33m)\u001b[0m\u001b[1;33m\u001b[0m\u001b[1;33m\u001b[0m\u001b[0m\n\u001b[0;32m      4\u001b[0m         \u001b[0mtotal\u001b[0m \u001b[1;33m=\u001b[0m \u001b[1;36m0\u001b[0m\u001b[1;33m\u001b[0m\u001b[1;33m\u001b[0m\u001b[0m\n\u001b[0;32m      5\u001b[0m         \u001b[0mprev\u001b[0m \u001b[1;33m=\u001b[0m \u001b[1;33m-\u001b[0m\u001b[1;36m1\u001b[0m\u001b[1;33m\u001b[0m\u001b[1;33m\u001b[0m\u001b[0m\n",
      "\u001b[1;31mNameError\u001b[0m: name 'cases' is not defined"
     ]
    }
   ],
   "source": [
    "def alternate(s):\n",
    "    for caseNo in range(s):\n",
    "        s = input()\n",
    "        total = 0\n",
    "        prev = -1\n",
    "        for char in s:\n",
    "            if char == prev:\n",
    "                total += 1\n",
    "            prev = char\n",
    "    print(total)\n",
    "        \n",
    "alternate(\"beabeefeab\")        \n",
    "    \n",
    "    "
   ]
  },
  {
   "cell_type": "code",
   "execution_count": 49,
   "metadata": {},
   "outputs": [
    {
     "name": "stdout",
     "output_type": "stream",
     "text": [
      "['b', 'a']\n",
      "aaaaa\n"
     ]
    }
   ],
   "source": [
    "mstr='ababababa'\n",
    "print(list(set(mstr)))\n",
    "print(mstr.replace('b',''))"
   ]
  },
  {
   "cell_type": "code",
   "execution_count": 3,
   "metadata": {},
   "outputs": [
    {
     "name": "stdout",
     "output_type": "stream",
     "text": [
      "2\n",
      "krinish\n",
      "mishwa\n",
      "['krinish', 'mishwa']\n",
      "kiih rns\n",
      "msw iha\n"
     ]
    }
   ],
   "source": [
    "n=int(input())\n",
    "s=[]\n",
    "for i in range(0,n):\n",
    "    string=input()\n",
    "    s.append(string)\n",
    "print(s)\n",
    "for i in s:\n",
    "    s1=''\n",
    "    s2=''\n",
    "    for j  in range(0,len(i)):\n",
    "        if j%2 == 0:\n",
    "            s1+=i[j]\n",
    "        else:\n",
    "            s2+=i[j]\n",
    "    print(s1+' '+s2)\n",
    "\n",
    "    "
   ]
  },
  {
   "cell_type": "code",
   "execution_count": 9,
   "metadata": {},
   "outputs": [
    {
     "name": "stdout",
     "output_type": "stream",
     "text": [
      "Array is sorted in 3 swaps.\n",
      "First Element: 1\n",
      "Last Element: 3\n"
     ]
    }
   ],
   "source": [
    "\n",
    "def countSwaps(a):\n",
    "    count=0\n",
    "    for i in range(0,len(a)):\n",
    "        for j in range(0,len(a)-1):\n",
    "            if a[j]>a[j+1]:\n",
    "                temp=a[j]\n",
    "                a[j]=a[j+1]\n",
    "                a[j+1]=temp\n",
    "                count+=1\n",
    "    print(\"Array is sorted in \" +str(count)+\" swaps.\")\n",
    "    print(\"First Element: \"+str(a[0]))\n",
    "    print(\"Last Element: \"+str(a[len(a)-1]))\n",
    "countSwaps([3,2,1])"
   ]
  },
  {
   "cell_type": "code",
   "execution_count": 15,
   "metadata": {},
   "outputs": [
    {
     "name": "stdout",
     "output_type": "stream",
     "text": [
      "6 5 4 3 2 1 \n",
      "1 2 3 4 5 6 "
     ]
    }
   ],
   "source": [
    "arr = list(map(int, input().rstrip().split()))\n",
    "i=0\n",
    "j=len(arr)-1\n",
    "while i<j:\n",
    "    temp=arr[i]\n",
    "    arr[i]=arr[j]\n",
    "    arr[j]=temp\n",
    "    i+=1\n",
    "    j-=1\n",
    "for i in arr:\n",
    "    print(str(i)+ ' ' ,end='') "
   ]
  },
  {
   "cell_type": "code",
   "execution_count": 17,
   "metadata": {},
   "outputs": [
    {
     "name": "stdout",
     "output_type": "stream",
     "text": [
      "4\n"
     ]
    }
   ],
   "source": [
    "def maximumToys(prices, k):\n",
    "    count=0\n",
    "    prices.sort()\n",
    "    for i in prices:\n",
    "        if i<=k:\n",
    "            count+=1\n",
    "            k-=i\n",
    "    print(count)\n",
    "maximumToys([1 ,12 ,5, 111 ,200 ,1000, 10],50)        \n",
    "    "
   ]
  },
  {
   "cell_type": "code",
   "execution_count": 27,
   "metadata": {},
   "outputs": [
    {
     "name": "stdout",
     "output_type": "stream",
     "text": [
      "[1, 5, 7, 8, 9, 10]\n"
     ]
    }
   ],
   "source": [
    "arr=[10, 7, 8, 9, 1, 5]\n",
    "def partation(arr,low,high):\n",
    "    pivot =arr[high]\n",
    "    i=low-1\n",
    "    for j in range(low,high):\n",
    "        if arr[j]<pivot:\n",
    "            i+=1\n",
    "            arr[i],arr[j]=arr[j],arr[i]\n",
    "    arr[i+1],arr[high]=arr[high],arr[i+1]\n",
    "    return i+1\n",
    "        \n",
    "\n",
    "def quicksort(arr,low,high):\n",
    "    if low<high:\n",
    "        pi=partation(arr,low,high)\n",
    "        quicksort(arr,low,pi-1)\n",
    "        quicksort(arr,pi+1,high)\n",
    "quicksort(arr,0,len(arr)-1) \n",
    "print(arr)"
   ]
  },
  {
   "cell_type": "code",
   "execution_count": 29,
   "metadata": {},
   "outputs": [
    {
     "name": "stdout",
     "output_type": "stream",
     "text": [
      "[1, 3]\n"
     ]
    }
   ],
   "source": [
    "def designerPdfViewer(h, word):\n",
    "    max=0\n",
    "    for i in word:\n",
    "        if max<h[ord(i)-97]:\n",
    "            max=h[ord(i)-97]\n",
    "    return max*len(word)       \n",
    "    \n",
    "        \n",
    "    \n",
    "    \n",
    "designerPdfViewer([1 ,3, 1, 3 ,1 ,4 ,1 ,3, 2 ,5, 5 ,5 ,5, 5, 5 ,5, 5 ,5 ,5 ,5, 5, 5, 5 ,5, 5 ,7],\"abc\")\n",
    "    "
   ]
  },
  {
   "cell_type": "code",
   "execution_count": 32,
   "metadata": {},
   "outputs": [
    {
     "name": "stdout",
     "output_type": "stream",
     "text": [
      "7\n"
     ]
    }
   ],
   "source": [
    "def utopianTree(n):\n",
    "    high=1\n",
    "    for i in range(0,n):\n",
    "        if i%2==0:\n",
    "            high=high*2\n",
    "        else:\n",
    "            high+=1\n",
    "    print(high)\n",
    "\n",
    "    \n",
    "utopianTree(4)"
   ]
  },
  {
   "cell_type": "code",
   "execution_count": 38,
   "metadata": {},
   "outputs": [
    {
     "name": "stdout",
     "output_type": "stream",
     "text": [
      "2\n",
      "No\n"
     ]
    }
   ],
   "source": [
    "def angryProfessor(k, a):\n",
    "    count=0\n",
    "    for i in a:\n",
    "        if i <=0:\n",
    "            count+=1\n",
    "    print(count)\n",
    "    if count< k:\n",
    "        print(\"YES\")\n",
    "    else:\n",
    "        print(\"No\")\n",
    "angryProfessor(2,[0 ,-1, 2, 1])      "
   ]
  },
  {
   "cell_type": "code",
   "execution_count": 61,
   "metadata": {},
   "outputs": [
    {
     "name": "stdout",
     "output_type": "stream",
     "text": [
      "4\n"
     ]
    }
   ],
   "source": [
    "def makeAnagram(a, b):\n",
    "    count = 0\n",
    "    for i in range(97, 123):\n",
    "        ia = a.count(chr(i))\n",
    "        ib = b.count(chr(i))\n",
    "        count += abs(ia-ib)\n",
    "    print(count)\n",
    "makeAnagram('cde','abc')      "
   ]
  },
  {
   "cell_type": "code",
   "execution_count": 65,
   "metadata": {},
   "outputs": [
    {
     "name": "stdout",
     "output_type": "stream",
     "text": [
      "4\n"
     ]
    }
   ],
   "source": [
    "def alternatingCharacters(s):\n",
    "    count=0\n",
    "    for i in range(0,len(s)-1):\n",
    "        if s[i]==s[i+1]:\n",
    "            count+=1\n",
    "    print(count)\n",
    "alternatingCharacters(\"AAABBB\")       "
   ]
  },
  {
   "cell_type": "code",
   "execution_count": 94,
   "metadata": {},
   "outputs": [
    {
     "name": "stdout",
     "output_type": "stream",
     "text": [
      "[2, 3, 1]\n",
      "[]\n"
     ]
    }
   ],
   "source": [
    "def circularArrayRotation(a, k, queries):\n",
    "    l=a[-k:]+a[:-k]\n",
    "    result=[]\n",
    "    print(l)\n",
    "    for i in queries:\n",
    "        print(i)\n",
    "        result.append(l[i])\n",
    "    print (result)\n",
    "circularArrayRotation([1,2,3],2,[])"
   ]
  },
  {
   "cell_type": "code",
   "execution_count": 98,
   "metadata": {},
   "outputs": [
    {
     "name": "stdout",
     "output_type": "stream",
     "text": [
      "krinish\n",
      "nirali\n",
      "mishwa\n",
      "5\n",
      "6\n",
      "1\n",
      "Dictionary after updating multiple key-value : {'krinish': '5', 'nirali': '6', 'mishwa': '1'}\n",
      "krinish test_dict[i]\n",
      "Not found\n",
      "nirali test_dict[i]\n"
     ]
    }
   ],
   "source": [
    "test_dict = {} \n",
    "for i in range(0,3):\n",
    "    test_keys[i]=input() \n",
    "for keys in test_keys: \n",
    "    test_dict[keys] = input()\n",
    "print(\"Dictionary after updating multiple key-value : \" + str(test_dict))\n",
    "l=['krinish','disu','nirali']\n",
    "for i in l:\n",
    "    if i in test_keys:\n",
    "        print(i+\" \"+test_dict[i])\n",
    "    else:\n",
    "        print(\"Not found\")"
   ]
  },
  {
   "cell_type": "code",
   "execution_count": 111,
   "metadata": {},
   "outputs": [
    {
     "name": "stdout",
     "output_type": "stream",
     "text": [
      "2\n"
     ]
    }
   ],
   "source": [
    "def beautifulDays(i, j, k):\n",
    "    count=0\n",
    "    for a in range(i,j+1):\n",
    "        a=str(a)\n",
    "        b=a[::-1]\n",
    "        if (int(a)-int(b))%k==0:\n",
    "            count+=1\n",
    "    print(count)\n",
    "beautifulDays(20,23,6)\n",
    "        "
   ]
  },
  {
   "cell_type": "code",
   "execution_count": 113,
   "metadata": {},
   "outputs": [
    {
     "name": "stdout",
     "output_type": "stream",
     "text": [
      "9\n"
     ]
    }
   ],
   "source": [
    "import math\n",
    "def viralAdvertising(n):\n",
    "    Shared =5\n",
    "    liked=0\n",
    "    Cumulative=0\n",
    "    for i in range(0,n):\n",
    "        liked=math.floor(Shared/2)\n",
    "        Cumulative+=liked\n",
    "        Shared=liked*3\n",
    "    print(Cumulative)\n",
    "viralAdvertising(3)"
   ]
  },
  {
   "cell_type": "code",
   "execution_count": 6,
   "metadata": {},
   "outputs": [
    {
     "name": "stdout",
     "output_type": "stream",
     "text": [
      "5\n",
      "1\n"
     ]
    }
   ],
   "source": [
    "n = int(input())\n",
    "numbers = str(bin(n)[2:]).split('0')\n",
    "lenghts = [len(num) for num in numbers]\n",
    "print(max(lenghts))\n",
    "    \n",
    "        "
   ]
  },
  {
   "cell_type": "code",
   "execution_count": 12,
   "metadata": {},
   "outputs": [
    {
     "name": "stdout",
     "output_type": "stream",
     "text": [
      "False\n"
     ]
    }
   ],
   "source": [
    "def is_leap(year):\n",
    "    leap = False\n",
    "    if year%4==0:\n",
    "        leap=True\n",
    "    elif year%100!=0 or year%400==0:\n",
    "        leap=True\n",
    "    return leap\n",
    "print(is_leap(1990))"
   ]
  },
  {
   "cell_type": "code",
   "execution_count": 29,
   "metadata": {},
   "outputs": [
    {
     "name": "stdout",
     "output_type": "stream",
     "text": [
      "5\n",
      "2 3 6 6 5\n",
      "6\n",
      "[2, 3, 5]\n",
      "5\n"
     ]
    }
   ],
   "source": [
    "if __name__ == '__main__':\n",
    "    n = int(input())\n",
    "    arr = map(int, input().split())\n",
    "    arr=list(arr)\n",
    "    largest=max(arr)\n",
    "    print(largest)\n",
    "    for i in range(n):\n",
    "        if largest == max(arr):\n",
    "            arr.remove(max(arr))\n",
    "\n",
    "    print(arr)\n",
    "    print(max(arr))\n"
   ]
  },
  {
   "cell_type": "code",
   "execution_count": 34,
   "metadata": {},
   "outputs": [
    {
     "name": "stdout",
     "output_type": "stream",
     "text": [
      "3\n",
      "krinish\n",
      "5\n",
      "mishwa\n",
      "6\n",
      "dishu \n",
      "5\n",
      "['dishu ', 'krinish']\n"
     ]
    }
   ],
   "source": [
    "if __name__ == '__main__':\n",
    "    students=[]\n",
    "    for _ in range(int(input())):\n",
    "        k=[]\n",
    "        name = input()\n",
    "        score = float(input())\n",
    "        k.append(name)\n",
    "        k.append(score)\n",
    "        students.append(k)\n",
    "    score=[]\n",
    "    for i in students:\n",
    "        score.append(i[1])\n",
    "    largest=min(score)\n",
    "    for i in range(len(score)):\n",
    "        if largest == min(score):\n",
    "            score.remove(min(score))\n",
    "    secondlast=min(score)\n",
    "    myans=[]\n",
    "    for i in students:\n",
    "        if i[1]==secondlast:\n",
    "            myans.append(i[0])\n",
    "    myans.sort()\n",
    "    for i in myans:\n",
    "        print(i)\n"
   ]
  },
  {
   "cell_type": "code",
   "execution_count": 40,
   "metadata": {},
   "outputs": [
    {
     "name": "stdout",
     "output_type": "stream",
     "text": [
      "1\n",
      "1\n",
      "1\n",
      "2\n",
      "[[0, 0, 0], [0, 0, 1], [0, 1, 0], [1, 0, 0], [1, 1, 1]]\n"
     ]
    }
   ],
   "source": [
    "x = int ( input()) \n",
    "y = int ( input())\n",
    "z = int ( input()) \n",
    "n = int (input()) \n",
    "ar = [] \n",
    "p = 0 \n",
    "for i in range ( x + 1 ) : \n",
    "    for j in range( y + 1):\n",
    "        for z in range( z + 1):\n",
    "            if i+j+z != n: \n",
    "                ar.append([]) \n",
    "                ar[p] = [ i , j, z ] \n",
    "                p+=1 \n",
    "print (ar)"
   ]
  },
  {
   "cell_type": "code",
   "execution_count": null,
   "metadata": {},
   "outputs": [],
   "source": [
    "if __name__ == '__main__':\n",
    "    n = int(input())\n",
    "    student_marks = {}\n",
    "    l=[]\n",
    "    sum=0\n",
    "    for _ in range(n):\n",
    "        name, *line = input().split()\n",
    "        scores = list(map(float, line))\n",
    "        student_marks[name] = scores\n",
    "    query_name = input()\n",
    "    for i in student_marks:\n",
    "        if i==query_name:\n",
    "            l=list(student_marks.get(i))\n",
    "    print(l)\n",
    "    for i in l:\n",
    "        sum+=i\n",
    "    print(sum/len(l))\n",
    "        "
   ]
  },
  {
   "cell_type": "code",
   "execution_count": null,
   "metadata": {},
   "outputs": [],
   "source": [
    "import numpy as np\n",
    "N, M = list(map(int, input().split()))\n",
    "\n",
    "a = np.array([input().split() for _ in range(N)], float)\n",
    "b = np.array([input().split() for _ in range(N)], float)\n",
    "print(a+b)\n",
    "print(a-b)\n",
    "print(a*b)\n",
    "print(np.array(a/b,int))\n",
    "print(a%b)\n",
    "print(a**b) \n",
    " "
   ]
  },
  {
   "cell_type": "code",
   "execution_count": 1,
   "metadata": {},
   "outputs": [
    {
     "name": "stdout",
     "output_type": "stream",
     "text": [
      "2\n",
      "1 2\n",
      "3713081631934410656\n"
     ]
    }
   ],
   "source": [
    "if __name__ == '__main__':\n",
    "    n = int(input())\n",
    "    integer_list = map(int, input().split())\n",
    "    print(hash(tuple(integer_list)))"
   ]
  },
  {
   "cell_type": "code",
   "execution_count": 2,
   "metadata": {},
   "outputs": [
    {
     "name": "stdout",
     "output_type": "stream",
     "text": [
      "HackerRank.com presents \"Pythonist 2\".\n",
      "hACKERrANK.COM PRESENTS \"pYTHONIST 2\".\n"
     ]
    }
   ],
   "source": [
    "def swap_case(s):\n",
    "    result=\"\"\n",
    "    for i in s:\n",
    "        if i.isupper() == True:\n",
    "            result+=i.lower()\n",
    "        else:\n",
    "            result+=i.upper()\n",
    "            \n",
    "    return result\n",
    "\n",
    "if __name__ == '__main__':\n",
    "    s = input()\n",
    "    result = swap_case(s)\n",
    "    print(result)"
   ]
  },
  {
   "cell_type": "code",
   "execution_count": 8,
   "metadata": {},
   "outputs": [
    {
     "name": "stdout",
     "output_type": "stream",
     "text": [
      "abcdabcd\n",
      "abcd\n",
      "2\n"
     ]
    }
   ],
   "source": [
    "def count_substring(string, sub_string):\n",
    "    count=0\n",
    "    for i in range(len(string) - len(sub_string) + 1): \n",
    "        j = 0\n",
    "        while(j < len(sub_string)): \n",
    "            if (string[i + j] !=  sub_string[j]): \n",
    "                break\n",
    "            j += 1\n",
    "  \n",
    "        if (j == len(sub_string)):  \n",
    "            count+=1\n",
    "    return count\n",
    "\n",
    "if __name__ == '__main__':\n",
    "    string = input().strip()\n",
    "    sub_string = input().strip()\n",
    "    \n",
    "    count = count_substring(string, sub_string)\n",
    "    print(count)"
   ]
  },
  {
   "cell_type": "code",
   "execution_count": 10,
   "metadata": {},
   "outputs": [
    {
     "name": "stdout",
     "output_type": "stream",
     "text": [
      "a\n",
      "True\n",
      "True\n",
      "False\n",
      "True\n",
      "False\n"
     ]
    }
   ],
   "source": [
    "if __name__ == '__main__':\n",
    "    s = input()\n",
    "    c=[0,0,0,0,0]\n",
    "    for i in s:\n",
    "        if i.isalnum()==True and c[0]==0: \n",
    "            c[0]=1\n",
    "        if i.isalpha()==True and c[1]==0: \n",
    "            c[1]=1\n",
    "        if i.isdigit()==True and c[2]==0: \n",
    "            c[2]=1\n",
    "        if i.islower()==True and c[3]==0: \n",
    "            c[3]=1\n",
    "        if i.isupper()==True and c[4]==0: \n",
    "            c[4]=1\n",
    "    for i in c:\n",
    "        if i==1:\n",
    "            print(\"True\")\n",
    "        else:\n",
    "            print(\"False\")"
   ]
  },
  {
   "cell_type": "code",
   "execution_count": 33,
   "metadata": {},
   "outputs": [
    {
     "name": "stdout",
     "output_type": "stream",
     "text": [
      "3\n",
      "  H  \n",
      " HHH \n",
      "HHHHH\n",
      " HHH         HHH        \n",
      " HHH         HHH        \n",
      " HHH         HHH        \n",
      " HHH         HHH        \n",
      " HHHHHHHHHHHHHHH  \n",
      " HHHHHHHHHHHHHHH  \n",
      " HHH         HHH        \n",
      " HHH         HHH        \n",
      " HHH         HHH        \n",
      " HHH         HHH        \n",
      "            HHHHH \n",
      "             HHH  \n",
      "              H   \n"
     ]
    }
   ],
   "source": [
    "#Replace all ______ with rjust, ljust or center. \n",
    "thickness = int(input()) #This must be an odd number\n",
    "c = 'H'\n",
    "#Top Cone\n",
    "for i in range(thickness):\n",
    "    print((c*i).rjust(thickness-1)+c+(c*i).ljust(thickness-1))\n",
    "\n",
    "#Top Pillars\n",
    "for i in range(thickness+1):\n",
    "    print((c*thickness).center(thickness*2)+(c*thickness).center(thickness*6))\n",
    "\n",
    "#Middle Belt\n",
    "for i in range((thickness+1)//2):\n",
    "    print((c*thickness*5).center(thickness*6))    \n",
    "\n",
    "#Bottom Pillars\n",
    "for i in range(thickness+1):\n",
    "    print((c*thickness).center(thickness*2)+(c*thickness).center(thickness*6))    \n",
    "\n",
    "#Bottom Cone\n",
    "for i in range(thickness):\n",
    "    print(((c*(thickness-i-1)).rjust(thickness)+c+(c*(thickness-i-1)).ljust(thickness)).rjust(thickness*6))"
   ]
  },
  {
   "cell_type": "code",
   "execution_count": 8,
   "metadata": {},
   "outputs": [
    {
     "name": "stdout",
     "output_type": "stream",
     "text": [
      "5\n",
      "[0, 1, 1, 2, 3]\n",
      "[0, 1, 1, 8, 27]\n"
     ]
    }
   ],
   "source": [
    "cube = lambda x: (x*x*x)# complete the lambda function \n",
    "\n",
    "def fibonacci(n):\n",
    "    fibo=[]\n",
    "    fibo.append(0)\n",
    "    fibo.append(1)\n",
    "    for i in range(2,n):\n",
    "        fibo.append(fibo[i-2]+fibo[i-1])\n",
    "    print (fibo[0:n])\n",
    "    return fibo\n",
    "    # return a list of fibonacci numbers\n",
    "\n",
    "if __name__ == '__main__':\n",
    "    n = int(input())\n",
    "    print(list(map(cube, fibonacci(n))))"
   ]
  },
  {
   "cell_type": "code",
   "execution_count": 2,
   "metadata": {},
   "outputs": [
    {
     "name": "stdout",
     "output_type": "stream",
     "text": [
      "2 3\n",
      "2 3\n",
      "1 2 3\n",
      "4 5 6\n",
      "7 8 9\n",
      "[<map object at 0x0000020D07A82FC8>, <map object at 0x0000020D07A82348>, <map object at 0x0000020D07A82148>]\n",
      "4.0\n",
      "5.0\n",
      "6.0\n"
     ]
    }
   ],
   "source": [
    "n, x = map(int, input().split()) \n",
    "print(n,x)\n",
    "sheet = []\n",
    "for _ in range(x):\n",
    "    sheet.append( map(float, input().split()) ) \n",
    "print(sheet)\n",
    "for i in zip(*sheet): \n",
    "    print( sum(i)/len(i) )"
   ]
  },
  {
   "cell_type": "code",
   "execution_count": 20,
   "metadata": {},
   "outputs": [
    {
     "name": "stdout",
     "output_type": "stream",
     "text": [
      "aaabbbccs\n",
      "['c', 's', 'a', 'b']\n",
      "[2, 1, 3, 3]\n",
      "[('a', 3), ('b', 3), ('c', 2), ('s', 1)]\n"
     ]
    }
   ],
   "source": [
    "import operator\n",
    "s = input()\n",
    "counts=[]\n",
    "a=list(set(s))\n",
    "for i in range(len(a)):\n",
    "    counts.append(int(s.count(a[i])))\n",
    "print(a)\n",
    "print(counts)\n",
    "x=list(zip(a,counts))\n",
    "x.sort(key = operator.itemgetter(1), reverse = True)\n",
    "print(x)\n",
    "    "
   ]
  },
  {
   "cell_type": "code",
   "execution_count": 7,
   "metadata": {},
   "outputs": [
    {
     "name": "stdout",
     "output_type": "stream",
     "text": [
      "[2, 3, 4, 5]\n"
     ]
    }
   ],
   "source": [
    "a=[1,2,3,4,5]\n",
    "a=a[1::]\n",
    "print(a)"
   ]
  },
  {
   "cell_type": "code",
   "execution_count": null,
   "metadata": {},
   "outputs": [],
   "source": []
  }
 ],
 "metadata": {
  "kernelspec": {
   "display_name": "Python 3",
   "language": "python",
   "name": "python3"
  },
  "language_info": {
   "codemirror_mode": {
    "name": "ipython",
    "version": 3
   },
   "file_extension": ".py",
   "mimetype": "text/x-python",
   "name": "python",
   "nbconvert_exporter": "python",
   "pygments_lexer": "ipython3",
   "version": "3.7.4"
  }
 },
 "nbformat": 4,
 "nbformat_minor": 2
}
