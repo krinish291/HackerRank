{
 "cells": [
  {
   "cell_type": "code",
   "execution_count": 4,
   "metadata": {},
   "outputs": [
    {
     "name": "stdout",
     "output_type": "stream",
     "text": [
      "1 2\n"
     ]
    }
   ],
   "source": [
    "def compareTriplets(a, b):\n",
    "    a1=0\n",
    "    b1=0\n",
    "    for i in range(0,3):\n",
    "        if a[i]>b[i]:\n",
    "            a1=a1+1\n",
    "        if a[i]==b[i]:\n",
    "            pass\n",
    "        if a[i]<b[i]:\n",
    "            b1=b1+1\n",
    "    res=[0,0]\n",
    "    res[0]=a1\n",
    "    res[1]=b1\n",
    "    return res\n",
    "a=[3,5,6]\n",
    "b=[6,6,3]\n",
    "res=compareTriplets(a,b)\n",
    "print(res[0],res[1])"
   ]
  },
  {
   "cell_type": "code",
   "execution_count": 5,
   "metadata": {},
   "outputs": [
    {
     "name": "stdout",
     "output_type": "stream",
     "text": [
      "2 2 1\n",
      "0.4\n",
      "0.4\n",
      "0.2\n"
     ]
    }
   ],
   "source": [
    "def plusMinus(arr):\n",
    "    p=0\n",
    "    n=0\n",
    "    z=0\n",
    "    for i in arr:\n",
    "        if i < 0:\n",
    "            n = n + 1\n",
    "        elif i == 0:\n",
    "            z=z+1\n",
    "        elif i > 0:\n",
    "            p=p+1\n",
    "    print(p,n,z)\n",
    "    print(float(p/len(arr)))   \n",
    "    print(float(n/len(arr)))    \n",
    "    print(float(z/len(arr)))    \n",
    "\n",
    "plusMinus([-1,1,0,-2,2])    \n",
    "    "
   ]
  },
  {
   "cell_type": "code",
   "execution_count": 6,
   "metadata": {},
   "outputs": [
    {
     "name": "stdout",
     "output_type": "stream",
     "text": [
      "     #\n",
      "    ##\n",
      "   ###\n",
      "  ####\n",
      " #####\n",
      "######\n"
     ]
    }
   ],
   "source": [
    "n=6\n",
    "def piramid(n):\n",
    "    for i in range(0,n):\n",
    "        for j in reversed(range(0,6)):\n",
    "            if(j<=i):\n",
    "                print('#',end='')\n",
    "            else:\n",
    "                print(' ',end='')\n",
    "        print('')\n",
    "piramid(n)     "
   ]
  },
  {
   "cell_type": "code",
   "execution_count": 7,
   "metadata": {},
   "outputs": [
    {
     "name": "stdout",
     "output_type": "stream",
     "text": [
      "10\n",
      "14\n"
     ]
    }
   ],
   "source": [
    "def miniMaxSum(arr):\n",
    "    sum=[0,0,0,0,0]\n",
    "    for i in range(len(arr)):\n",
    "        ans=0\n",
    "        for j in range(len(arr)):\n",
    "            if(i==j):\n",
    "                pass\n",
    "            else:\n",
    "                ans=ans+arr[j]\n",
    "        sum[i]=ans\n",
    "    print(min(sum))\n",
    "    print(max(sum))\n",
    "        \n",
    "miniMaxSum([1,2,3,4,5])        "
   ]
  },
  {
   "cell_type": "code",
   "execution_count": 8,
   "metadata": {},
   "outputs": [
    {
     "name": "stdout",
     "output_type": "stream",
     "text": [
      "4\n",
      "2\n"
     ]
    }
   ],
   "source": [
    "def finf(arr):\n",
    "    l=[]\n",
    "    a=max(arr)\n",
    "    print(a)\n",
    "    for i in arr:\n",
    "        l.append(i)\n",
    "    print(l.count(a))\n",
    "finf([4,4,1,3])"
   ]
  },
  {
   "cell_type": "code",
   "execution_count": 9,
   "metadata": {},
   "outputs": [
    {
     "name": "stdout",
     "output_type": "stream",
     "text": [
      "[75, 67, 40, 33]\n"
     ]
    }
   ],
   "source": [
    "def gradingStudents(grades):\n",
    "    arr=[]\n",
    "    # Write your code here\n",
    "    for i in grades:\n",
    "        if  i < 38:\n",
    "            pass\n",
    "        else:\n",
    "            if i%5 >= 3:\n",
    "                i = i - i%5 + 5\n",
    "            else:\n",
    "                pass\n",
    "        arr.append(i)\n",
    "    return arr\n",
    "result=gradingStudents([73,67,38,33])\n",
    "print(result)"
   ]
  },
  {
   "cell_type": "code",
   "execution_count": 10,
   "metadata": {},
   "outputs": [
    {
     "name": "stdout",
     "output_type": "stream",
     "text": [
      "1\n",
      "1\n"
     ]
    }
   ],
   "source": [
    "def countApplesAndOranges(s, t, a, b, apples, oranges):\n",
    "    ta=[]\n",
    "    to=[]\n",
    "    for i in apples:\n",
    "        if a+i >= s:\n",
    "            ta.append(i)\n",
    "    for i in oranges:\n",
    "        if b+i <= t:\n",
    "            to.append(i)\n",
    "            \n",
    "    print(len(ta))\n",
    "    print(len(to))\n",
    "\n",
    "countApplesAndOranges(7,11,5,15,[-2, 2, 1],[5 ,-6])"
   ]
  },
  {
   "cell_type": "code",
   "execution_count": 11,
   "metadata": {},
   "outputs": [
    {
     "name": "stdout",
     "output_type": "stream",
     "text": [
      "2 96\n",
      "[2, 4, 6, 8, 10, 12, 14, 16, 18, 20, 22, 24, 26, 28, 30, 32, 34, 36, 38, 40, 42, 44, 46, 48, 50, 52, 54, 56, 58, 60, 62, 64, 66, 68, 70, 72, 74, 76, 78, 80, 82, 84, 86, 88, 90, 92, 94, 4, 8, 12, 16, 20, 24, 28, 32, 36, 40, 44, 48, 52, 56, 60, 64, 68, 72, 76, 80, 84, 88, 92]\n"
     ]
    }
   ],
   "source": [
    "def getTotalX(a, b):\n",
    "    # Write your code here\n",
    "    l=[]\n",
    "    v2=max(b)\n",
    "    v1=min(a)\n",
    "    print(v1,v2)\n",
    "    for j in range(0,len(a)):\n",
    "        for i in range(v1,v2):\n",
    "            if i%a[j] == 0:\n",
    "                l.append(i)\n",
    "    print(l)\n",
    "\n",
    "getTotalX([2,4],[16,32,96])"
   ]
  },
  {
   "cell_type": "code",
   "execution_count": 12,
   "metadata": {},
   "outputs": [
    {
     "name": "stdout",
     "output_type": "stream",
     "text": [
      "3\n",
      "3\n",
      "4\n",
      "5\n",
      "2\n"
     ]
    }
   ],
   "source": [
    "def birthday(s, d, m):\n",
    "    count=0\n",
    "    for i in range(0,len(s)-m+1):\n",
    "        sum=0\n",
    "        for j in range(0,m):\n",
    "            sum =sum + s[i+j]\n",
    "        print(sum)\n",
    "        if sum==d:\n",
    "            count+=1\n",
    "    print(count)\n",
    "birthday([1, 2, 1, 3, 2],3,2)"
   ]
  },
  {
   "cell_type": "code",
   "execution_count": 13,
   "metadata": {},
   "outputs": [
    {
     "name": "stdout",
     "output_type": "stream",
     "text": [
      "3.0\n"
     ]
    }
   ],
   "source": [
    "def divisibleSumPairs(n, k, ar):\n",
    "    count=0\n",
    "    for i in range(0,n):\n",
    "        for j in range(0,n):\n",
    "            sum=0\n",
    "            if i!=j:\n",
    "                sum=ar[j]+ar[i]\n",
    "               \n",
    "                if sum%k == 0:\n",
    "                    count+=1\n",
    "    print(count/2)\n",
    "divisibleSumPairs(6,5,[1 ,2,3,4,5,6])"
   ]
  },
  {
   "cell_type": "code",
   "execution_count": 14,
   "metadata": {},
   "outputs": [
    {
     "name": "stdout",
     "output_type": "stream",
     "text": [
      "3\n",
      "3\n"
     ]
    }
   ],
   "source": [
    "def migratoryBirds(arr):\n",
    "    a=[]\n",
    "    for i in range(0,5):\n",
    "        k=arr.count(i+1)\n",
    "        a.append(k)\n",
    "    print(max(a))\n",
    "    for i in range(0,5):\n",
    "        if a[i]==3:\n",
    "            break\n",
    "    print(i+1)\n",
    "migratoryBirds([1 ,2, 3, 4, 5,4, 3, 2 ,1 ,3, 4])"
   ]
  },
  {
   "cell_type": "code",
   "execution_count": 15,
   "metadata": {},
   "outputs": [
    {
     "name": "stdout",
     "output_type": "stream",
     "text": [
      "15511210043330985984000000\n"
     ]
    }
   ],
   "source": [
    "def extraLongFactorials(n):\n",
    "    fact = 1\n",
    "    for i in range(1,n+1): \n",
    "        fact = fact * i \n",
    "    print (fact) \n",
    "extraLongFactorials(25)        "
   ]
  },
  {
   "cell_type": "code",
   "execution_count": 16,
   "metadata": {},
   "outputs": [
    {
     "name": "stdout",
     "output_type": "stream",
     "text": [
      "Factorial of 5 is 120\n"
     ]
    }
   ],
   "source": [
    "# Python 3 program to find \n",
    "# factorial of given number \n",
    "def factorial(n): \n",
    "\t\n",
    "\t# single line to find factorial \n",
    "\treturn 1 if (n == 1 or n == 0) else n * factorial(n - 1); \n",
    "\n",
    "# Driver Code \n",
    "num = 5; \n",
    "print(\"Factorial of\", num, \"is\", \n",
    "factorial(num)) \n",
    "\n",
    "# This code is contributed by Smitha Dinesh Semwal \n"
   ]
  },
  {
   "cell_type": "code",
   "execution_count": 17,
   "metadata": {},
   "outputs": [
    {
     "name": "stdout",
     "output_type": "stream",
     "text": [
      "2 4\n"
     ]
    }
   ],
   "source": [
    "def breakingRecords(scores):\n",
    "    mins=scores[0]\n",
    "    maxs=scores[0]\n",
    "    cs=0\n",
    "    cl=0\n",
    "    for i in range (1,len(scores)):\n",
    "        if scores[i] < mins:\n",
    "            cs+=1\n",
    "            mins=scores[i]\n",
    "        if scores[i] > maxs:\n",
    "            cl+=1\n",
    "            maxs=scores[i]\n",
    "    print(cl,cs)\n",
    "breakingRecords([10 ,5 ,20 ,20 ,4, 5, 2 ,25, 1])"
   ]
  },
  {
   "cell_type": "code",
   "execution_count": 35,
   "metadata": {},
   "outputs": [
    {
     "name": "stdout",
     "output_type": "stream",
     "text": [
      "happy number\n"
     ]
    }
   ],
   "source": [
    "myset = set()\n",
    "def happynumber(n):\n",
    "    i=0\n",
    "    a=[]\n",
    "    sum=0  \n",
    "    while n>0:\n",
    "        i=n%10\n",
    "        a.append(i)\n",
    "        n=int(n/10)\n",
    "    a.reverse()\n",
    "    for i in a:\n",
    "        sum=sum+(i**2)\n",
    "    if sum == 1:\n",
    "        print(\"happy number\")\n",
    "    elif sum in myset:\n",
    "        print(\"not possible\") \n",
    "    else:   \n",
    "        myset.add(sum)\n",
    "        happynumber(sum)   \n",
    "happynumber(13)"
   ]
  },
  {
   "cell_type": "code",
   "execution_count": 49,
   "metadata": {},
   "outputs": [
    {
     "name": "stdout",
     "output_type": "stream",
     "text": [
      "3\n"
     ]
    }
   ],
   "source": [
    "def sockMerchant( ar):\n",
    "    a=[]\n",
    "    sum=0\n",
    "    k=set()\n",
    "    for i in ar:\n",
    "        if i in k:\n",
    "            pass\n",
    "        else:\n",
    "            k.add(i)\n",
    "            a.append(ar.count(i))\n",
    "    for i in a:\n",
    "        i=int(i/2)\n",
    "        sum=sum+i\n",
    "    print(sum)\n",
    "sockMerchant([10 ,20 ,20 ,10, 10, 30, 50, 10 ,20])"
   ]
  },
  {
   "cell_type": "code",
   "execution_count": 60,
   "metadata": {},
   "outputs": [
    {
     "name": "stdout",
     "output_type": "stream",
     "text": [
      "012345671\n"
     ]
    }
   ],
   "source": [
    "def countingValleys( s):\n",
    "    ans=0\n",
    "    c=[]\n",
    "    count=0\n",
    "    for i in s:\n",
    "        if i == 'D':\n",
    "            ans=ans-1\n",
    "            c.append(ans)\n",
    "        elif i=='U':\n",
    "            ans=ans+1\n",
    "            c.append(ans)\n",
    "    for i in range(0,len(c)):\n",
    "        if c[i] == 0 and c[i-1]<0:\n",
    "            count+=1\n",
    "    print(count)\n",
    "countingValleys('UDDDUDUU')"
   ]
  },
  {
   "cell_type": "code",
   "execution_count": 76,
   "metadata": {},
   "outputs": [
    {
     "name": "stdout",
     "output_type": "stream",
     "text": [
      "4\n"
     ]
    }
   ],
   "source": [
    "def jumpingOnClouds(c):\n",
    "    count=0\n",
    "    for i in range(1,len(c)-2):\n",
    "        if c[i] == 1:\n",
    "            pass\n",
    "        elif c[i]==0 and c[i+1]==0 and c[i+2]==0:\n",
    "            pass\n",
    "        elif c[i]==0 and c[i+1]==0 and c[i+2]==1:   \n",
    "            count+=1\n",
    "        elif c[i]==0 and c[i+1]==1 and c[i+2]==0:\n",
    "            count+=1\n",
    "        elif c[i]==0 and c[i+1]==1 and c[i+2]==1:\n",
    "            count+=1\n",
    "    print(count+1)    \n",
    "        \n",
    "        \n",
    "    \n",
    "jumpingOnClouds([0 ,0, 1, 0, 0 ,1, 0])"
   ]
  },
  {
   "cell_type": "code",
   "execution_count": 79,
   "metadata": {},
   "outputs": [
    {
     "name": "stdout",
     "output_type": "stream",
     "text": [
      "6\n",
      "4\n"
     ]
    }
   ],
   "source": [
    "def jumpingOnClouds(a):\n",
    "    c = -1\n",
    "    i = 0\n",
    "    while i < n:\n",
    "        if i < n-2 and a[i+2] == 0: \n",
    "            i += 1\n",
    "        c += 1\n",
    "        i += 1\n",
    "    print(c)\n",
    "jumpingOnClouds([0 ,0, 1, 0, 0 ,1, 0])"
   ]
  },
  {
   "cell_type": "code",
   "execution_count": null,
   "metadata": {},
   "outputs": [],
   "source": []
  },
  {
   "cell_type": "code",
   "execution_count": null,
   "metadata": {},
   "outputs": [],
   "source": []
  }
 ],
 "metadata": {
  "kernelspec": {
   "display_name": "Python 3",
   "language": "python",
   "name": "python3"
  },
  "language_info": {
   "codemirror_mode": {
    "name": "ipython",
    "version": 3
   },
   "file_extension": ".py",
   "mimetype": "text/x-python",
   "name": "python",
   "nbconvert_exporter": "python",
   "pygments_lexer": "ipython3",
   "version": "3.7.4"
  }
 },
 "nbformat": 4,
 "nbformat_minor": 2
}
