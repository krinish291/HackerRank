{
 "cells": [
  {
   "cell_type": "code",
   "execution_count": null,
   "metadata": {},
   "outputs": [],
   "source": [
    "# Enter your code here. Read input from STDIN. Print output to STDOUT\n",
    "n=int(input(\"array length\"))\n",
    "x=list(map(int,input().split()))\n",
    "sum=0\n",
    "\n",
    "for i in x:\n",
    "    sum+=i\n",
    "print(sum/len(x))\n",
    "x.sort()\n",
    "if (len(x)-1)%2==0:\n",
    "    print(x[int(len(x)//2)])\n",
    "else:\n",
    "    print((x[int((len(x)-1)//2)]+x[int((len(x)-1)//2)+1])/2)\n",
    "k=[]\n",
    "for i in x:\n",
    "    k.append(x.count(i))\n",
    "a=max(k)\n",
    "sm=[]\n",
    "for i in range(0,n):\n",
    "    if k[i] == a:\n",
    "        sm.append(x[i])\n",
    "print(min(sm))\n"
   ]
  },
  {
   "cell_type": "code",
   "execution_count": null,
   "metadata": {},
   "outputs": [],
   "source": [
    "N=int(input())\n",
    "W=list(map(int,input().split()))\n",
    "X=list(map(int,input().split()))\n",
    "arr=[]\n",
    "for i,j in zip(W,X):\n",
    "    arr.append(i*j)\n",
    "print('%.1f'%(sum(arr)/sum(X)))"
   ]
  },
  {
   "cell_type": "code",
   "execution_count": null,
   "metadata": {},
   "outputs": [],
   "source": [
    "N=int(input())\n",
    "X=list(map(int,input().split()))\n",
    "u=sum(X)/N\n",
    "suq=[]\n",
    "for i in X:\n",
    "    suq.append((i-u)**2)\n",
    "print(\"%.1f\"%((sum(suq)/N)**0.5))"
   ]
  },
  {
   "cell_type": "code",
   "execution_count": 5,
   "metadata": {},
   "outputs": [
    {
     "name": "stdout",
     "output_type": "stream",
     "text": [
      "10\n",
      "3 7 8 5 12 14 21 13 18 20\n",
      "[3, 5, 7, 8, 12] [13, 14, 18, 20, 21]\n",
      "7\n",
      "12\n",
      "18\n"
     ]
    }
   ],
   "source": [
    "def prinrans(x):\n",
    "    if (len(x)-1)%2==0:\n",
    "        print(x[int(len(x)//2)])\n",
    "    else:\n",
    "        print((x[int((len(x)-1)//2)]+x[int((len(x)-1)//2)+1])//2)\n",
    "N=int(input())\n",
    "x=list(map(int,input().split()))\n",
    "x.sort()\n",
    "Q1=x[:len(x)//2]\n",
    "if N%2 == 0:\n",
    "    Q2=x[(len(x)//2):]\n",
    "else:\n",
    "    Q2=x[(len(x)//2)+1:]\n",
    "print(Q1,Q2)\n",
    "prinrans(Q1)\n",
    "prinrans(x)\n",
    "prinrans(Q2)"
   ]
  },
  {
   "cell_type": "code",
   "execution_count": 1,
   "metadata": {},
   "outputs": [
    {
     "name": "stdout",
     "output_type": "stream",
     "text": [
      "6\n",
      "6 12 8 10 20 16\n",
      "5 4 3 2 1 5\n",
      "9.0\n"
     ]
    }
   ],
   "source": [
    "def prinrans(x):\n",
    "    if (len(x)-1)%2==0:\n",
    "        return float(x[int(len(x)//2)])\n",
    "    else:\n",
    "        return ((x[int((len(x)-1)//2)]+x[int((len(x)-1)//2)+1])/2)\n",
    "N=int(input())\n",
    "W=list(map(int,input().split()))\n",
    "X=list(map(int,input().split()))\n",
    "s=[]\n",
    "for i,j in zip(W,X):\n",
    "    for k in range(j):\n",
    "        s.append(i)\n",
    "s.sort()\n",
    "Q1=s[:len(s)//2]\n",
    "if N%2 == 0:\n",
    "    Q2=s[(len(s)//2):]\n",
    "else:\n",
    "    Q2=s[(len(s)//2)+1:]\n",
    "print(\"%.1f\"%(prinrans(Q2)-prinrans(Q1)))"
   ]
  },
  {
   "cell_type": "code",
   "execution_count": 1,
   "metadata": {},
   "outputs": [
    {
     "name": "stdout",
     "output_type": "stream",
     "text": [
      "1.09 1\n",
      "0.696\n"
     ]
    }
   ],
   "source": [
    "def fact(n):\n",
    "    if n==0:\n",
    "        return 1\n",
    "    else:\n",
    "        return n*fact(n-1)\n",
    "n,x=6,3\n",
    "X=list(map(float,input().split()))\n",
    "p=X[0]/(X[0]+X[1])\n",
    "q=X[1]/(X[0]+X[1])\n",
    "s=0\n",
    "for i in range(x,n+1):\n",
    "    s+=(fact(n)/(fact(i)*fact(n-i)))*(p**i)*(q**(n-i))\n",
    "print(\"%.3f\"%s)"
   ]
  },
  {
   "cell_type": "code",
   "execution_count": 2,
   "metadata": {},
   "outputs": [
    {
     "name": "stdout",
     "output_type": "stream",
     "text": [
      "12 10\n",
      "0.026\n"
     ]
    }
   ],
   "source": [
    "def fact(n):\n",
    "    if n==0:\n",
    "        return 1\n",
    "    else:\n",
    "        return n*fact(n-1)\n",
    "n,x=6,3\n",
    "X=list(map(float,input().split()))\n",
    "p=X[0]/(X[0]+X[1])\n",
    "q=X[1]/(X[0]+X[1])\n",
    "s=0\n",
    "for i in range(x,n+1):\n",
    "    s+=(fact(n)/(fact(i)*fact(n-i)))*(p**i)*(q**(n-i))\n",
    "print(\"%.3f\"%s)"
   ]
  },
  {
   "cell_type": "code",
   "execution_count": null,
   "metadata": {},
   "outputs": [],
   "source": [
    "def fact(n):\n",
    "    return 1 if n == 0 else n*fact(n-1)\n",
    "\n",
    "def comb(n, x):\n",
    "    return fact(n) / (fact(x) * fact(n-x))\n",
    "\n",
    "def b(x, n, p):\n",
    "    return comb(n, x) * p**x * (1-p)**(n-x)\n",
    "\n",
    "p, n = list(map(int, input().split(\" \")))\n",
    "print(round(sum([b(i, n, p/100) for i in range(3)]), 3))\n",
    "print(round(sum([b(i, n, p/100) for i in range(2, n+1)]), 3))"
   ]
  },
  {
   "cell_type": "code",
   "execution_count": null,
   "metadata": {},
   "outputs": [],
   "source": [
    "X=list(map(float,input().split()))\n",
    "N=int(input())\n",
    "k=X[0]/X[1]\n",
    "print(\"%.3f\"%(((1-k)**(N-1))*(k)))"
   ]
  },
  {
   "cell_type": "code",
   "execution_count": null,
   "metadata": {
    "scrolled": true
   },
   "outputs": [],
   "source": [
    "def derivation(x,N):\n",
    "    u=sum(x)/N\n",
    "    suq=[]\n",
    "    for i in x:\n",
    "        suq.append((i-u)**2)\n",
    "    return ((sum(suq)/N)**0.5)\n",
    "n=int(input())\n",
    "x=list(map(float,input().split()))\n",
    "y=list(map(float,input().split()))\n",
    "suma=0.0\n",
    "mux,sigx,muy,sigy=sum(x)/len(x),derivation(x,n),sum(y)/len(y),derivation(y,n)\n",
    "for i,j in zip(x,y):\n",
    "    suma+=(i-mux)*(j-muy)\n",
    "print(suma/(n*sigx*sigy))\n"
   ]
  },
  {
   "cell_type": "code",
   "execution_count": 1,
   "metadata": {},
   "outputs": [
    {
     "ename": "NameError",
     "evalue": "name 'a' is not defined",
     "output_type": "error",
     "traceback": [
      "\u001b[1;31m---------------------------------------------------------------------------\u001b[0m",
      "\u001b[1;31mNameError\u001b[0m                                 Traceback (most recent call last)",
      "\u001b[1;32m<ipython-input-1-964e9bbe44cc>\u001b[0m in \u001b[0;36m<module>\u001b[1;34m\u001b[0m\n\u001b[1;32m----> 1\u001b[1;33m \u001b[0ml\u001b[0m\u001b[1;33m=\u001b[0m\u001b[1;33m[\u001b[0m\u001b[0ma\u001b[0m\u001b[1;33m,\u001b[0m\u001b[0md\u001b[0m\u001b[1;33m,\u001b[0m\u001b[0mf\u001b[0m\u001b[1;33m,\u001b[0m\u001b[0ml\u001b[0m\u001b[1;33m]\u001b[0m\u001b[1;33m\u001b[0m\u001b[1;33m\u001b[0m\u001b[0m\n\u001b[0m\u001b[0;32m      2\u001b[0m \u001b[0mprint\u001b[0m\u001b[1;33m(\u001b[0m\u001b[0ml\u001b[0m\u001b[1;33m.\u001b[0m\u001b[0mall\u001b[0m\u001b[1;33m(\u001b[0m\u001b[1;33m)\u001b[0m\u001b[1;33m)\u001b[0m\u001b[1;33m\u001b[0m\u001b[1;33m\u001b[0m\u001b[0m\n",
      "\u001b[1;31mNameError\u001b[0m: name 'a' is not defined"
     ]
    }
   ],
   "source": [
    "l=[a,d,f,l]\n",
    "print(l.all())"
   ]
  },
  {
   "cell_type": "code",
   "execution_count": null,
   "metadata": {},
   "outputs": [],
   "source": []
  }
 ],
 "metadata": {
  "kernelspec": {
   "display_name": "Python 3",
   "language": "python",
   "name": "python3"
  },
  "language_info": {
   "codemirror_mode": {
    "name": "ipython",
    "version": 3
   },
   "file_extension": ".py",
   "mimetype": "text/x-python",
   "name": "python",
   "nbconvert_exporter": "python",
   "pygments_lexer": "ipython3",
   "version": "3.7.4"
  }
 },
 "nbformat": 4,
 "nbformat_minor": 2
}
